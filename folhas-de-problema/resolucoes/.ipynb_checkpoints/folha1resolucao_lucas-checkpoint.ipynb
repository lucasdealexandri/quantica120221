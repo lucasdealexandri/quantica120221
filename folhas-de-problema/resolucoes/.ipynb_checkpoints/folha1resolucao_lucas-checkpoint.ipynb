{
 "cells": [
  {
   "cell_type": "markdown",
   "id": "37b7e99e",
   "metadata": {},
   "source": [
    "\\\\[\\vec{F} = q(\\vec{E} + \\vec{v}\\times \\vec{B})\\\\]"
   ]
  }
 ],
 "metadata": {
  "kernelspec": {
   "display_name": "Julia 1.5.3",
   "language": "julia",
   "name": "julia-1.5"
  }
 },
 "nbformat": 4,
 "nbformat_minor": 5
}
