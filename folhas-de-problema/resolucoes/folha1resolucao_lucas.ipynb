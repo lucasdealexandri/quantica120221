{
 "cells": [
  {
   "cell_type": "markdown",
   "id": "b1294070-c6f6-4797-a7d7-defbe83d80ce",
   "metadata": {},
   "source": [
    "# 1. Problema de Larmor\n",
    "\n",
    "Primeiro consideramos \\\\(~~\\mathbf{B} = B\\mathbf{\\hat{z}}~~~|~~~(\\mathbf{E} = \\mathbf{0})\\\\)"
   ]
  },
  {
   "cell_type": "markdown",
   "id": "37b7e99e",
   "metadata": {},
   "source": [
    "\\\\[\\mathbf{F} = q(\\mathbf{E} + \\mathbf{v}\\times \\mathbf{B})\\\\]"
   ]
  },
  {
   "cell_type": "markdown",
   "id": "896394a2-ddf1-4990-8eaa-0e2e54c016d6",
   "metadata": {},
   "source": [
    "### 1.1 Formalismo Newtoniano"
   ]
  },
  {
   "cell_type": "code",
   "execution_count": null,
   "id": "f1d95b74-c19b-48ae-b188-0677aa9fad70",
   "metadata": {},
   "outputs": [],
   "source": []
  }
 ],
 "metadata": {
  "kernelspec": {
   "display_name": "Julia 1.5.3",
   "language": "julia",
   "name": "julia-1.5"
  },
  "language_info": {
   "name": ""
  }
 },
 "nbformat": 4,
 "nbformat_minor": 5
}
